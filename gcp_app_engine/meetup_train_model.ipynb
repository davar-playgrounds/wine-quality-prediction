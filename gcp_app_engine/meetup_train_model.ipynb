{
 "cells": [
  {
   "cell_type": "code",
   "execution_count": null,
   "metadata": {},
   "outputs": [],
   "source": [
    "from os import getenv\n",
    "from socket import gethostbyname, gethostname"
   ]
  },
  {
   "cell_type": "code",
   "execution_count": null,
   "metadata": {},
   "outputs": [],
   "source": [
    "# create SparkSession\n",
    "from pyspark.sql import SparkSession\n",
    "spark = SparkSession.builder\\\n",
    ".master('spark://first-spark-bdl-spark-master.first.svc.cluster.local:7077') \\\n",
    ".appName(\"wine_quality_prediction\") \\\n",
    ".config('spark.jars.packages', 'ml.combust.mleap:mleap-spark_2.11:0.13.0')\\\n",
    ".config(\"spark.driver.host\",gethostbyname(gethostname())) \\\n",
    ".getOrCreate()"
   ]
  },
  {
   "cell_type": "code",
   "execution_count": null,
   "metadata": {},
   "outputs": [],
   "source": [
    "import pandas as pd\n",
    "import mleap.pyspark\n",
    "import mleap.sklearn.base\n",
    "\n",
    "# get the dataset\n",
    "url_1 = \"https://archive.ics.uci.edu/ml/machine-learning-databases/wine-quality/winequality-red.csv\"\n",
    "url_2 = \"https://archive.ics.uci.edu/ml/machine-learning-databases/wine-quality/winequality-white.csv\"\n",
    "data = pd.read_csv(url_2, sep=';')"
   ]
  },
  {
   "cell_type": "code",
   "execution_count": null,
   "metadata": {},
   "outputs": [],
   "source": [
    "df = spark.createDataFrame(data,schema=data.columns.tolist())\n",
    "# rename quality column to label\n",
    "df_label = df.withColumnRenamed(\"quality\",\"label\")\n",
    "cols = df_label.columns\n",
    "cols.remove(\"label\")"
   ]
  },
  {
   "cell_type": "code",
   "execution_count": null,
   "metadata": {},
   "outputs": [],
   "source": [
    "from pyspark.ml.feature import VectorAssembler\n",
    "assembler = VectorAssembler(inputCols=cols, outputCol=\"features\")"
   ]
  },
  {
   "cell_type": "code",
   "execution_count": null,
   "metadata": {},
   "outputs": [],
   "source": [
    "from sklearn.model_selection import train_test_split\n",
    "#we will split the data:\n",
    "train, test = df_label.randomSplit([0.8, 0.2], seed=12345)"
   ]
  },
  {
   "cell_type": "code",
   "execution_count": null,
   "metadata": {},
   "outputs": [],
   "source": [
    "from pyspark.ml.regression import LinearRegression\n",
    "lr = LinearRegression(maxIter=10, regParam=0.3, elasticNetParam=0.8, featuresCol = 'features', labelCol = 'label')"
   ]
  },
  {
   "cell_type": "code",
   "execution_count": null,
   "metadata": {},
   "outputs": [],
   "source": [
    "from pyspark.ml import Pipeline\n",
    "import mleap.sklearn.pipeline\n",
    "# CREATE PIPELINE\n",
    "pipeline = Pipeline(stages=[assembler, lr])"
   ]
  },
  {
   "cell_type": "code",
   "execution_count": null,
   "metadata": {},
   "outputs": [],
   "source": [
    "#call fit() on the pipeline , it will result a pipeline model ( which by definition is a Transformer )\n",
    "fitted_pipeline = pipeline.fit(train)"
   ]
  },
  {
   "cell_type": "code",
   "execution_count": null,
   "metadata": {},
   "outputs": [],
   "source": [
    "fitted_pipeline"
   ]
  },
  {
   "cell_type": "code",
   "execution_count": null,
   "metadata": {},
   "outputs": [],
   "source": [
    "from mleap.pyspark.spark_support import SimpleSparkSerializer\n",
    "# Serialize the model\n",
    "model_version=1.3\n",
    "fitted_pipeline.serializeToBundle(\"jar:file:/tmp/wq_mleap-bundle-{}.zip\".format(model_version), fitted_pipeline.transform(df_label.withColumnRenamed(\"quality\",\"label\")))\n"
   ]
  },
  {
   "cell_type": "code",
   "execution_count": null,
   "metadata": {},
   "outputs": [],
   "source": [
    "%%script env  model_version=\"$model_version\" bash\n",
    "bdl -mkdir -p /models\n",
    "bdl -copyFromLocal -f /tmp/wq_mleap-bundle-$model_version.zip /models/\n",
    "rm /tmp/wq_mleap-bundle-$model_version.zip"
   ]
  },
  {
   "cell_type": "code",
   "execution_count": null,
   "metadata": {},
   "outputs": [],
   "source": [
    "spark.stop()"
   ]
  },
  {
   "cell_type": "code",
   "execution_count": null,
   "metadata": {},
   "outputs": [],
   "source": []
  }
 ],
 "metadata": {
  "kernelspec": {
   "display_name": "Python 3",
   "language": "python",
   "name": "python3"
  },
  "language_info": {
   "codemirror_mode": {
    "name": "ipython",
    "version": 3
   },
   "file_extension": ".py",
   "mimetype": "text/x-python",
   "name": "python",
   "nbconvert_exporter": "python",
   "pygments_lexer": "ipython3",
   "version": "3.6.7"
  }
 },
 "nbformat": 4,
 "nbformat_minor": 2
}
