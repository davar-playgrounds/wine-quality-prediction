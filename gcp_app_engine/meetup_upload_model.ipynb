{
 "cells": [
  {
   "cell_type": "markdown",
   "metadata": {},
   "source": [
    "## Update model in datalake:"
   ]
  },
  {
   "cell_type": "code",
   "execution_count": 1,
   "metadata": {},
   "outputs": [],
   "source": [
    "#update these values to match your environment\n",
    "#get your api key from the Lentiq application, it is available in your account details.\n",
    "api_key=\"RWlIH0yX2ZvwMwMn32khNSIz5gT9J0ygJzWq8IM0SsDVSW5d6GKdVzlTZsVf94lY\"\n",
    "if(api_key==\"\"):\n",
    "    raise Exception(\"get your api key from the Lentiq UI\")"
   ]
  },
  {
   "cell_type": "code",
   "execution_count": 2,
   "metadata": {},
   "outputs": [],
   "source": [
    "import os\n",
    "import requests\n",
    "import json\n",
    "import sys\n",
    "\n",
    "#This is the URL where the model bundle was uploaded. eg: /models/mleap-bundle-1.4.zip\". \n",
    "model_path=\"/models/wq_mleap-bundle-1.3.zip\" \n",
    "\n",
    "#this is the name of the model serving application. Get this from the Dashboard\n",
    "application_name = \"model-server\"\n",
    "data_pool_name = 'meetup'\n",
    "project_name = 'first'\n",
    "endpoint=os.environ['API_ENDPOINT']+'/api/v1'"
   ]
  },
  {
   "cell_type": "markdown",
   "metadata": {},
   "source": [
    "### Rolling update of the model"
   ]
  },
  {
   "cell_type": "code",
   "execution_count": 3,
   "metadata": {},
   "outputs": [
    {
     "name": "stdout",
     "output_type": "stream",
     "text": [
      "Calling GET https://api.lentiq.com/api/v1/applications/meetup/first/model-server\n",
      "{'applicationCurrentOperationStatus': None,\n",
      " 'cachedApplicationStatus': {'connectionInternal': {'mleapConnectionString': 'first-model-server-bdl-mleap-internal.first.svc.cluster.local:65327',\n",
      "                                                    'type': 'MleapConnectionInformationInternal'},\n",
      "                             'connectionPublic': {'mleapConnectionString': '35.234.79.201:65327',\n",
      "                                                  'type': 'MleapConnectionInformationPublic'},\n",
      "                             'mleap': {'currentReplicas': 1,\n",
      "                                       'readyReplicas': 1,\n",
      "                                       'replicas': 2,\n",
      "                                       'updatedReplicas': 2},\n",
      "                             'name': 'model-server',\n",
      "                             'phase': 'updating',\n",
      "                             'type': 'MleapStatus'},\n",
      " 'configuration': {'mleap': {'mleapPort': 65327,\n",
      "                             'replicas': 2,\n",
      "                             'resources': {'limitsCPU': 0.5,\n",
      "                                           'limitsMemoryGiB': 3.0,\n",
      "                                           'requestsCPU': None,\n",
      "                                           'requestsMemoryGiB': None,\n",
      "                                           'useLimitsValuesForRequests': True},\n",
      "                             'type': 'MleapConfigurationReplicas'},\n",
      "                   'modelPath': '/models/wq_mleap-bundle-1.3.zip',\n",
      "                   'type': 'MleapConfiguration',\n",
      "                   'version': None,\n",
      "                   'whitelistedIPs': []},\n",
      " 'createdTimestampSeconds': 1557931898,\n",
      " 'datapoolName': 'meetup',\n",
      " 'generation': 32,\n",
      " 'internalService': False,\n",
      " 'name': 'model-server',\n",
      " 'phase': 'running',\n",
      " 'projectName': 'first',\n",
      " 'type': 'Mleap',\n",
      " 'updatedTimestampSeconds': 1559725939}\n",
      "Calling PUT https://api.lentiq.com/api/v1/applications/meetup/first/model-server\n"
     ]
    }
   ],
   "source": [
    "#prepare our url and auth headers\n",
    "headers = {'Authorization': \"APIKEY \"+api_key}\n",
    "url = \"{}/applications/{}/{}/{}\".format(endpoint, data_pool_name, project_name, application_name)\n",
    "\n",
    "print(\"Calling GET {}\".format(url))\n",
    "\n",
    "#app=requests.get(url, headers=headers).json()\n",
    "r=requests.get(url, headers=headers)\n",
    "app=r.json()\n",
    "\n",
    "import pprint\n",
    "pprint.pprint(app)\n",
    "\n",
    "app['configuration']['modelPath'] = model_path\n",
    "\n",
    "print(\"Calling PUT {}\".format(url))\n",
    "#update model\n",
    "r=requests.put(url, headers=headers, json=app['configuration'])\n",
    "if(r.status_code!=200):\n",
    "    print('Something went wrong! Server returned:'+r.content.decode(\"UTF-8\"))"
   ]
  },
  {
   "cell_type": "code",
   "execution_count": null,
   "metadata": {},
   "outputs": [],
   "source": [
    "#'updatedTimestampSeconds': 1559174731}"
   ]
  }
 ],
 "metadata": {
  "kernelspec": {
   "display_name": "Python 3",
   "language": "python",
   "name": "python3"
  },
  "language_info": {
   "codemirror_mode": {
    "name": "ipython",
    "version": 3
   },
   "file_extension": ".py",
   "mimetype": "text/x-python",
   "name": "python",
   "nbconvert_exporter": "python",
   "pygments_lexer": "ipython3",
   "version": "3.6.7"
  }
 },
 "nbformat": 4,
 "nbformat_minor": 2
}
